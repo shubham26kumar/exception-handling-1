{
 "cells": [
  {
   "cell_type": "markdown",
   "id": "1a330d7a-84f6-40fa-b89e-214eb0662f9b",
   "metadata": {},
   "source": [
    "Q1. What is an Exception in python? Write the difference between Exceptions and syntax errors."
   ]
  },
  {
   "cell_type": "markdown",
   "id": "3d3b60a0-c808-4281-a93a-69555c943cd7",
   "metadata": {},
   "source": [
    "An exception is an event, which occurs during the execution of a program that disrupts the normal flow of the program's instructions. \n",
    "\n",
    "An Exception is an error that happens during the execution of a program. Whenever there is an error, Python generates an exception that could be handled. It basically prevents the program from getting crashed."
   ]
  },
  {
   "cell_type": "markdown",
   "id": "c14066d2-cffc-4379-9ac6-5120b3b4bd62",
   "metadata": {},
   "source": [
    "Error in Python can be of two types i.e. Syntax errors and Exceptions.\n",
    "\n",
    "Syntax Error: As the name suggests this error is caused by the wrong syntax in the code. It leads to the termination of the program.\n",
    "\n",
    "Exceptions: Exceptions are raised when the program is syntactically correct, but the code resulted in an error. This error does not stop the execution of the program, however, it changes the normal flow of the program."
   ]
  },
  {
   "cell_type": "markdown",
   "id": "bbcd6bbd-c70b-49eb-ada1-db57f7acf820",
   "metadata": {},
   "source": [
    "Example of Syntax Error"
   ]
  },
  {
   "cell_type": "code",
   "execution_count": 3,
   "id": "2534875a-44cd-450e-aca6-21d1bb8e2e9e",
   "metadata": {},
   "outputs": [
    {
     "ename": "SyntaxError",
     "evalue": "expected ':' (1818656388.py, line 3)",
     "output_type": "error",
     "traceback": [
      "\u001b[0;36m  Cell \u001b[0;32mIn[3], line 3\u001b[0;36m\u001b[0m\n\u001b[0;31m    if(amount > 0)\u001b[0m\n\u001b[0m                  ^\u001b[0m\n\u001b[0;31mSyntaxError\u001b[0m\u001b[0;31m:\u001b[0m expected ':'\n"
     ]
    }
   ],
   "source": [
    "\n",
    "age = -6\n",
    "\n",
    "if(amount > 0)\n",
    "print(\"You are eligible to purchase Dsa Self Paced\")\n"
   ]
  },
  {
   "cell_type": "markdown",
   "id": "c2238c3e-ec5e-421a-9670-243da88cb737",
   "metadata": {},
   "source": [
    "Example of Exceptions"
   ]
  },
  {
   "cell_type": "code",
   "execution_count": 4,
   "id": "84623895-ae36-41ac-bcb3-1ee53d5c8208",
   "metadata": {},
   "outputs": [
    {
     "ename": "ZeroDivisionError",
     "evalue": "division by zero",
     "output_type": "error",
     "traceback": [
      "\u001b[0;31m---------------------------------------------------------------------------\u001b[0m",
      "\u001b[0;31mZeroDivisionError\u001b[0m                         Traceback (most recent call last)",
      "Cell \u001b[0;32mIn[4], line 2\u001b[0m\n\u001b[1;32m      1\u001b[0m a\u001b[38;5;241m=\u001b[39m\u001b[38;5;241m0\u001b[39m\n\u001b[0;32m----> 2\u001b[0m \u001b[43ma\u001b[49m\u001b[38;5;241;43m/\u001b[39;49m\u001b[38;5;241;43m0\u001b[39;49m\n",
      "\u001b[0;31mZeroDivisionError\u001b[0m: division by zero"
     ]
    }
   ],
   "source": [
    "a=0\n",
    "a/0"
   ]
  },
  {
   "cell_type": "code",
   "execution_count": null,
   "id": "f5dd901c-60f2-4465-a9a5-24d008b7b3da",
   "metadata": {},
   "outputs": [],
   "source": []
  },
  {
   "cell_type": "markdown",
   "id": "72173077-a40a-41ec-b9ee-0624e603e53d",
   "metadata": {},
   "source": [
    "Q2. What happens when an exception is not handled ? Explain with an example : -"
   ]
  },
  {
   "cell_type": "markdown",
   "id": "a8800437-3b42-449a-ab84-6dfc92035888",
   "metadata": {},
   "source": [
    "Python execute line by line and if error get caught in abover lines the below lines will not get executed.\n",
    "\n",
    "So , when exception is not handled then below codes donot get executed despite being right"
   ]
  },
  {
   "cell_type": "markdown",
   "id": "846a24a8-6a96-4278-95ca-046a8e5989c4",
   "metadata": {},
   "source": [
    "When exception is handled:  Example"
   ]
  },
  {
   "cell_type": "code",
   "execution_count": 6,
   "id": "ee5c7f57-a101-489c-b447-45306d8810b4",
   "metadata": {},
   "outputs": [
    {
     "data": {
      "text/plain": [
       "5"
      ]
     },
     "execution_count": 6,
     "metadata": {},
     "output_type": "execute_result"
    }
   ],
   "source": [
    "try:\n",
    "    f=open(\"pwskill1234.txt\" ,\"r\")\n",
    "    f.read()\n",
    "except Exception as e:\n",
    "    pass\n",
    "a=5\n",
    "a\n"
   ]
  },
  {
   "cell_type": "markdown",
   "id": "babb5038-d0b3-465f-bde0-aef80f637158",
   "metadata": {},
   "source": [
    "When exception is not handled : Example"
   ]
  },
  {
   "cell_type": "code",
   "execution_count": 7,
   "id": "efbb17d6-85ae-42b8-af4a-a751310b8724",
   "metadata": {},
   "outputs": [
    {
     "ename": "FileNotFoundError",
     "evalue": "[Errno 2] No such file or directory: 'pwskill1234.txt'",
     "output_type": "error",
     "traceback": [
      "\u001b[0;31m---------------------------------------------------------------------------\u001b[0m",
      "\u001b[0;31mFileNotFoundError\u001b[0m                         Traceback (most recent call last)",
      "Cell \u001b[0;32mIn[7], line 1\u001b[0m\n\u001b[0;32m----> 1\u001b[0m f\u001b[38;5;241m=\u001b[39m\u001b[38;5;28;43mopen\u001b[39;49m\u001b[43m(\u001b[49m\u001b[38;5;124;43m\"\u001b[39;49m\u001b[38;5;124;43mpwskill1234.txt\u001b[39;49m\u001b[38;5;124;43m\"\u001b[39;49m\u001b[43m \u001b[49m\u001b[43m,\u001b[49m\u001b[38;5;124;43m\"\u001b[39;49m\u001b[38;5;124;43mr\u001b[39;49m\u001b[38;5;124;43m\"\u001b[39;49m\u001b[43m)\u001b[49m\n\u001b[1;32m      2\u001b[0m f\u001b[38;5;241m.\u001b[39mread()\n\u001b[1;32m      4\u001b[0m a\u001b[38;5;241m=\u001b[39m\u001b[38;5;241m5\u001b[39m\n",
      "File \u001b[0;32m/opt/conda/lib/python3.10/site-packages/IPython/core/interactiveshell.py:282\u001b[0m, in \u001b[0;36m_modified_open\u001b[0;34m(file, *args, **kwargs)\u001b[0m\n\u001b[1;32m    275\u001b[0m \u001b[38;5;28;01mif\u001b[39;00m file \u001b[38;5;129;01min\u001b[39;00m {\u001b[38;5;241m0\u001b[39m, \u001b[38;5;241m1\u001b[39m, \u001b[38;5;241m2\u001b[39m}:\n\u001b[1;32m    276\u001b[0m     \u001b[38;5;28;01mraise\u001b[39;00m \u001b[38;5;167;01mValueError\u001b[39;00m(\n\u001b[1;32m    277\u001b[0m         \u001b[38;5;124mf\u001b[39m\u001b[38;5;124m\"\u001b[39m\u001b[38;5;124mIPython won\u001b[39m\u001b[38;5;124m'\u001b[39m\u001b[38;5;124mt let you open fd=\u001b[39m\u001b[38;5;132;01m{\u001b[39;00mfile\u001b[38;5;132;01m}\u001b[39;00m\u001b[38;5;124m by default \u001b[39m\u001b[38;5;124m\"\u001b[39m\n\u001b[1;32m    278\u001b[0m         \u001b[38;5;124m\"\u001b[39m\u001b[38;5;124mas it is likely to crash IPython. If you know what you are doing, \u001b[39m\u001b[38;5;124m\"\u001b[39m\n\u001b[1;32m    279\u001b[0m         \u001b[38;5;124m\"\u001b[39m\u001b[38;5;124myou can use builtins\u001b[39m\u001b[38;5;124m'\u001b[39m\u001b[38;5;124m open.\u001b[39m\u001b[38;5;124m\"\u001b[39m\n\u001b[1;32m    280\u001b[0m     )\n\u001b[0;32m--> 282\u001b[0m \u001b[38;5;28;01mreturn\u001b[39;00m \u001b[43mio_open\u001b[49m\u001b[43m(\u001b[49m\u001b[43mfile\u001b[49m\u001b[43m,\u001b[49m\u001b[43m \u001b[49m\u001b[38;5;241;43m*\u001b[39;49m\u001b[43margs\u001b[49m\u001b[43m,\u001b[49m\u001b[43m \u001b[49m\u001b[38;5;241;43m*\u001b[39;49m\u001b[38;5;241;43m*\u001b[39;49m\u001b[43mkwargs\u001b[49m\u001b[43m)\u001b[49m\n",
      "\u001b[0;31mFileNotFoundError\u001b[0m: [Errno 2] No such file or directory: 'pwskill1234.txt'"
     ]
    }
   ],
   "source": [
    "\n",
    "f=open(\"pwskill1234.txt\" ,\"r\")\n",
    "f.read()\n",
    "\n",
    "a=5\n",
    "a"
   ]
  },
  {
   "cell_type": "code",
   "execution_count": null,
   "id": "16dfcd71-09c3-4103-980e-32f8f6391710",
   "metadata": {},
   "outputs": [],
   "source": []
  },
  {
   "cell_type": "markdown",
   "id": "d747cfb3-d863-4e51-a655-88497c27cbb1",
   "metadata": {},
   "source": [
    "when Exception is not handled it disrupt the normal flow of program as in above two example where when exception was handled program continues to run despite having error but when exception was not handled , it thrown the error"
   ]
  },
  {
   "cell_type": "code",
   "execution_count": null,
   "id": "aeaaf191-04c5-498a-9086-f36edbb3b889",
   "metadata": {},
   "outputs": [],
   "source": []
  },
  {
   "cell_type": "markdown",
   "id": "652b71ae-4ac2-4f39-9646-5880a720575b",
   "metadata": {},
   "source": [
    "Q3. Which Python statements are used to catch and handle exceptions? Explain with an example"
   ]
  },
  {
   "cell_type": "markdown",
   "id": "94943a2c-ac28-4a1a-9009-00f49df2fdbb",
   "metadata": {},
   "source": [
    "Try and except statements are used to catch and handle exceptions in Python. Statements that can raise exceptions are kept inside the try clause and the statements that handle the exception are written inside except clause."
   ]
  },
  {
   "cell_type": "markdown",
   "id": "770a0942-6816-442a-b8b3-9d51c558f9a7",
   "metadata": {},
   "source": [
    ".\n",
    "\n",
    "\n",
    "\n",
    "\n",
    "\n",
    "This will thow ZeroDivisionError"
   ]
  },
  {
   "cell_type": "code",
   "execution_count": 12,
   "id": "5506e742-0605-4195-a5fe-08d0057708b0",
   "metadata": {},
   "outputs": [
    {
     "name": "stdin",
     "output_type": "stream",
     "text": [
      "Enter no 6\n"
     ]
    },
    {
     "ename": "ZeroDivisionError",
     "evalue": "division by zero",
     "output_type": "error",
     "traceback": [
      "\u001b[0;31m---------------------------------------------------------------------------\u001b[0m",
      "\u001b[0;31mZeroDivisionError\u001b[0m                         Traceback (most recent call last)",
      "Cell \u001b[0;32mIn[12], line 2\u001b[0m\n\u001b[1;32m      1\u001b[0m a\u001b[38;5;241m=\u001b[39m\u001b[38;5;28mint\u001b[39m(\u001b[38;5;28minput\u001b[39m(\u001b[38;5;124m\"\u001b[39m\u001b[38;5;124mEnter no\u001b[39m\u001b[38;5;124m\"\u001b[39m))\n\u001b[0;32m----> 2\u001b[0m \u001b[43ma\u001b[49m\u001b[38;5;241;43m/\u001b[39;49m\u001b[38;5;241;43m0\u001b[39;49m\n",
      "\u001b[0;31mZeroDivisionError\u001b[0m: division by zero"
     ]
    }
   ],
   "source": [
    "a=int(input(\"Enter no\"))\n",
    "a/0"
   ]
  },
  {
   "cell_type": "markdown",
   "id": "d1bc8f41-09b5-4724-b6ce-895b4148d546",
   "metadata": {},
   "source": [
    "Now with try and except we try to handle this exception\n",
    "\n",
    "Example"
   ]
  },
  {
   "cell_type": "code",
   "execution_count": 14,
   "id": "aae0a92e-6683-4cd0-b019-2c80fbfbe7a8",
   "metadata": {},
   "outputs": [],
   "source": [
    "import logging\n",
    "logging.basicConfig(filename=\"pw.log\",level=logging.DEBUG,format=\"%(asctime)s %(message)s\")\n"
   ]
  },
  {
   "cell_type": "markdown",
   "id": "e1f2e3cd-d8df-426b-bb19-51c1941128f6",
   "metadata": {},
   "source": [
    "\n",
    "try :\n",
    "    a=int(input(\"Enter no\"))\n",
    "    a/0\n",
    "except Exception as e:\n",
    "    logging.info(\"Exception handled\")"
   ]
  },
  {
   "cell_type": "code",
   "execution_count": 16,
   "id": "7e8f6b24-573a-4406-bad1-6f0d8dfb0084",
   "metadata": {},
   "outputs": [
    {
     "data": {
      "text/plain": [
       "'2023-02-13 10:09:28,987 Exception handled\\n'"
      ]
     },
     "execution_count": 16,
     "metadata": {},
     "output_type": "execute_result"
    }
   ],
   "source": [
    "f=open(\"pw.log\",\"r\")\n",
    "f.read()"
   ]
  },
  {
   "cell_type": "markdown",
   "id": "063d19b5-ee0f-4cdd-8c60-b9ca7ea29491",
   "metadata": {},
   "source": [
    "By this way exception is handled"
   ]
  },
  {
   "cell_type": "code",
   "execution_count": null,
   "id": "26184f50-b22b-4c84-8800-4f3697a9dac5",
   "metadata": {},
   "outputs": [],
   "source": []
  },
  {
   "cell_type": "code",
   "execution_count": null,
   "id": "ac007c49-c4d6-4fb6-9a9b-f4ae8e5ebde7",
   "metadata": {},
   "outputs": [],
   "source": []
  },
  {
   "cell_type": "markdown",
   "id": "acf5ba95-8dfd-43d2-be76-99df55708b63",
   "metadata": {},
   "source": [
    "Q4. Explain with an example:\n",
    "\n",
    "    a. try and else\n",
    "    b. finally\n",
    "    c. raise"
   ]
  },
  {
   "cell_type": "markdown",
   "id": "0b267c80-79f0-45de-9b15-f23342967d86",
   "metadata": {},
   "source": [
    "\n",
    "\n",
    "    a. try and else\n",
    "    "
   ]
  },
  {
   "cell_type": "code",
   "execution_count": 26,
   "id": "fc3ea9c2-5f8c-49f1-b41f-90b71ec2c2af",
   "metadata": {},
   "outputs": [],
   "source": [
    "try:\n",
    "    f=open(\"test1234.txt\",\"r\")\n",
    "\n",
    "except Exception as e:\n",
    "    logging.info(\"this is how exception works\" ,e)\n",
    "    \n",
    "a=4+5   \n",
    "logging.info(f\"the vaue of a is {a}\")"
   ]
  },
  {
   "cell_type": "code",
   "execution_count": 27,
   "id": "3ebbcfe3-4038-4f47-9183-2e6fff36c022",
   "metadata": {},
   "outputs": [
    {
     "data": {
      "text/plain": [
       "'2023-02-13 10:22:15,341 the vaue of a is 9\\n'"
      ]
     },
     "execution_count": 27,
     "metadata": {},
     "output_type": "execute_result"
    }
   ],
   "source": [
    "f=open(\"pw.log\",\"r\")\n",
    "f.read()"
   ]
  },
  {
   "cell_type": "markdown",
   "id": "9b587fc9-c79b-4d3a-bc96-16755f52db1d",
   "metadata": {},
   "source": [
    ".\n",
    "\n",
    "Try and except statements are used to catch and handle exceptions in Python. Statements that can raise exceptions are kept inside the try clause and the statements that handle the exception are written inside except clause."
   ]
  },
  {
   "cell_type": "code",
   "execution_count": null,
   "id": "1f0108db-cfe5-466d-99b9-5cf2a87db15c",
   "metadata": {},
   "outputs": [],
   "source": []
  },
  {
   "cell_type": "markdown",
   "id": "eb4e77ac-fbe9-4017-bf5c-7972ab4a901c",
   "metadata": {},
   "source": [
    "         \n",
    "         b. finally\n",
    "         \n",
    "         \n",
    "this will always excute in any situation either except block is there or not for exception handling finally block must execute\n",
    "         \n",
    "         both example with log file is attched below\n",
    "         "
   ]
  },
  {
   "cell_type": "code",
   "execution_count": 20,
   "id": "f8e498c5-3940-4c49-ae60-486ab472ff61",
   "metadata": {},
   "outputs": [
    {
     "ename": "FileNotFoundError",
     "evalue": "[Errno 2] No such file or directory: 'text1258.txt'",
     "output_type": "error",
     "traceback": [
      "\u001b[0;31m---------------------------------------------------------------------------\u001b[0m",
      "\u001b[0;31mFileNotFoundError\u001b[0m                         Traceback (most recent call last)",
      "Cell \u001b[0;32mIn[20], line 2\u001b[0m\n\u001b[1;32m      1\u001b[0m \u001b[38;5;28;01mtry\u001b[39;00m:\n\u001b[0;32m----> 2\u001b[0m     f\u001b[38;5;241m=\u001b[39m\u001b[38;5;28;43mopen\u001b[39;49m\u001b[43m(\u001b[49m\u001b[38;5;124;43m\"\u001b[39;49m\u001b[38;5;124;43mtext1258.txt\u001b[39;49m\u001b[38;5;124;43m\"\u001b[39;49m\u001b[43m,\u001b[49m\u001b[38;5;124;43m\"\u001b[39;49m\u001b[38;5;124;43mr\u001b[39;49m\u001b[38;5;124;43m\"\u001b[39;49m\u001b[43m)\u001b[49m\n\u001b[1;32m      3\u001b[0m     f\u001b[38;5;241m.\u001b[39mwrite(\u001b[38;5;124m\"\u001b[39m\u001b[38;5;124mwrite something\u001b[39m\u001b[38;5;124m\"\u001b[39m)\n\u001b[1;32m      4\u001b[0m \u001b[38;5;28;01mfinally\u001b[39;00m:\n",
      "File \u001b[0;32m/opt/conda/lib/python3.10/site-packages/IPython/core/interactiveshell.py:282\u001b[0m, in \u001b[0;36m_modified_open\u001b[0;34m(file, *args, **kwargs)\u001b[0m\n\u001b[1;32m    275\u001b[0m \u001b[38;5;28;01mif\u001b[39;00m file \u001b[38;5;129;01min\u001b[39;00m {\u001b[38;5;241m0\u001b[39m, \u001b[38;5;241m1\u001b[39m, \u001b[38;5;241m2\u001b[39m}:\n\u001b[1;32m    276\u001b[0m     \u001b[38;5;28;01mraise\u001b[39;00m \u001b[38;5;167;01mValueError\u001b[39;00m(\n\u001b[1;32m    277\u001b[0m         \u001b[38;5;124mf\u001b[39m\u001b[38;5;124m\"\u001b[39m\u001b[38;5;124mIPython won\u001b[39m\u001b[38;5;124m'\u001b[39m\u001b[38;5;124mt let you open fd=\u001b[39m\u001b[38;5;132;01m{\u001b[39;00mfile\u001b[38;5;132;01m}\u001b[39;00m\u001b[38;5;124m by default \u001b[39m\u001b[38;5;124m\"\u001b[39m\n\u001b[1;32m    278\u001b[0m         \u001b[38;5;124m\"\u001b[39m\u001b[38;5;124mas it is likely to crash IPython. If you know what you are doing, \u001b[39m\u001b[38;5;124m\"\u001b[39m\n\u001b[1;32m    279\u001b[0m         \u001b[38;5;124m\"\u001b[39m\u001b[38;5;124myou can use builtins\u001b[39m\u001b[38;5;124m'\u001b[39m\u001b[38;5;124m open.\u001b[39m\u001b[38;5;124m\"\u001b[39m\n\u001b[1;32m    280\u001b[0m     )\n\u001b[0;32m--> 282\u001b[0m \u001b[38;5;28;01mreturn\u001b[39;00m \u001b[43mio_open\u001b[49m\u001b[43m(\u001b[49m\u001b[43mfile\u001b[49m\u001b[43m,\u001b[49m\u001b[43m \u001b[49m\u001b[38;5;241;43m*\u001b[39;49m\u001b[43margs\u001b[49m\u001b[43m,\u001b[49m\u001b[43m \u001b[49m\u001b[38;5;241;43m*\u001b[39;49m\u001b[38;5;241;43m*\u001b[39;49m\u001b[43mkwargs\u001b[49m\u001b[43m)\u001b[49m\n",
      "\u001b[0;31mFileNotFoundError\u001b[0m: [Errno 2] No such file or directory: 'text1258.txt'"
     ]
    }
   ],
   "source": [
    "try:\n",
    "    f=open(\"text1258.txt\",\"r\")\n",
    "    f.write(\"write something\")\n",
    "finally:\n",
    "    logging.info(\"finally wil execute in any situation\")"
   ]
  },
  {
   "cell_type": "code",
   "execution_count": 22,
   "id": "54a4653f-5d2a-4784-80fa-77572a1e2f38",
   "metadata": {},
   "outputs": [
    {
     "data": {
      "text/plain": [
       "'2023-02-13 10:19:13,490 finally wil execute in any situation\\n'"
      ]
     },
     "execution_count": 22,
     "metadata": {},
     "output_type": "execute_result"
    }
   ],
   "source": [
    "f=open(\"pw.log\",\"r\")\n",
    "f.read()"
   ]
  },
  {
   "cell_type": "code",
   "execution_count": 28,
   "id": "39ebb3b4-bf33-4d13-9627-bd063df39474",
   "metadata": {},
   "outputs": [],
   "source": [
    "try:\n",
    "    f=open(\"text125.txt\",\"w\")\n",
    "    f.write(\"write something\")\n",
    "finally:\n",
    "    logging.info(\"finally wil execute in any situation\")"
   ]
  },
  {
   "cell_type": "code",
   "execution_count": 29,
   "id": "3af292d7-2ad8-48df-9bcc-16af01b930df",
   "metadata": {},
   "outputs": [
    {
     "data": {
      "text/plain": [
       "'2023-02-13 10:25:23,298 finally wil execute in any situation\\n'"
      ]
     },
     "execution_count": 29,
     "metadata": {},
     "output_type": "execute_result"
    }
   ],
   "source": [
    "f=open(\"pw.log\",\"r\")\n",
    "f.read()"
   ]
  },
  {
   "cell_type": "code",
   "execution_count": null,
   "id": "b2194529-fe01-4b0f-8441-82c98a455a8b",
   "metadata": {},
   "outputs": [],
   "source": []
  },
  {
   "cell_type": "markdown",
   "id": "fa6bfe7c-197d-4889-b642-551f36c63bcc",
   "metadata": {},
   "source": [
    "          \n",
    "          c. raise\n",
    "          "
   ]
  },
  {
   "cell_type": "markdown",
   "id": "a7968124-1d08-4aee-a387-a2959d6d4079",
   "metadata": {},
   "source": [
    "To throw (or raise) an exception, we use the raise keyword.\n",
    "\n",
    "The raise statement allows the programmer to force a specific exception to occur.\n",
    "\n",
    "The raise keyword is used to raise an exception."
   ]
  },
  {
   "cell_type": "markdown",
   "id": "72d81a73-65e1-47ad-812c-fc0d88577987",
   "metadata": {},
   "source": [
    "Example 1:"
   ]
  },
  {
   "cell_type": "code",
   "execution_count": 30,
   "id": "6f6ec986-e098-4e8a-86b5-65ce0118a941",
   "metadata": {},
   "outputs": [
    {
     "ename": "Exception",
     "evalue": "Sorry, no numbers below zero",
     "output_type": "error",
     "traceback": [
      "\u001b[0;31m---------------------------------------------------------------------------\u001b[0m",
      "\u001b[0;31mException\u001b[0m                                 Traceback (most recent call last)",
      "Cell \u001b[0;32mIn[30], line 4\u001b[0m\n\u001b[1;32m      1\u001b[0m x \u001b[38;5;241m=\u001b[39m \u001b[38;5;241m-\u001b[39m\u001b[38;5;241m1\u001b[39m\n\u001b[1;32m      3\u001b[0m \u001b[38;5;28;01mif\u001b[39;00m x \u001b[38;5;241m<\u001b[39m \u001b[38;5;241m0\u001b[39m:\n\u001b[0;32m----> 4\u001b[0m   \u001b[38;5;28;01mraise\u001b[39;00m \u001b[38;5;167;01mException\u001b[39;00m(\u001b[38;5;124m\"\u001b[39m\u001b[38;5;124mSorry, no numbers below zero\u001b[39m\u001b[38;5;124m\"\u001b[39m)\n",
      "\u001b[0;31mException\u001b[0m: Sorry, no numbers below zero"
     ]
    }
   ],
   "source": [
    "x = -1\n",
    "\n",
    "if x < 0:\n",
    "  raise Exception(\"Sorry, no numbers below zero\")"
   ]
  },
  {
   "cell_type": "markdown",
   "id": "733d6180-8f4f-4901-ae18-50eb01de0aea",
   "metadata": {},
   "source": [
    "Example 2:"
   ]
  },
  {
   "cell_type": "code",
   "execution_count": 31,
   "id": "907c7417-8c25-4cd3-9735-8cd6cadeebba",
   "metadata": {},
   "outputs": [
    {
     "ename": "TypeError",
     "evalue": "Only integers are allowed",
     "output_type": "error",
     "traceback": [
      "\u001b[0;31m---------------------------------------------------------------------------\u001b[0m",
      "\u001b[0;31mTypeError\u001b[0m                                 Traceback (most recent call last)",
      "Cell \u001b[0;32mIn[31], line 4\u001b[0m\n\u001b[1;32m      1\u001b[0m x \u001b[38;5;241m=\u001b[39m \u001b[38;5;124m\"\u001b[39m\u001b[38;5;124mhello\u001b[39m\u001b[38;5;124m\"\u001b[39m\n\u001b[1;32m      3\u001b[0m \u001b[38;5;28;01mif\u001b[39;00m \u001b[38;5;129;01mnot\u001b[39;00m \u001b[38;5;28mtype\u001b[39m(x) \u001b[38;5;129;01mis\u001b[39;00m \u001b[38;5;28mint\u001b[39m:\n\u001b[0;32m----> 4\u001b[0m   \u001b[38;5;28;01mraise\u001b[39;00m \u001b[38;5;167;01mTypeError\u001b[39;00m(\u001b[38;5;124m\"\u001b[39m\u001b[38;5;124mOnly integers are allowed\u001b[39m\u001b[38;5;124m\"\u001b[39m)\n",
      "\u001b[0;31mTypeError\u001b[0m: Only integers are allowed"
     ]
    }
   ],
   "source": [
    "x = \"hello\"\n",
    "\n",
    "if not type(x) is int:\n",
    "  raise TypeError(\"Only integers are allowed\")"
   ]
  },
  {
   "cell_type": "code",
   "execution_count": null,
   "id": "05974508-b7b9-45a7-b2e5-c3fc2f4dead7",
   "metadata": {},
   "outputs": [],
   "source": []
  },
  {
   "cell_type": "code",
   "execution_count": null,
   "id": "91a70b77-0245-4123-bb1d-1f4b6e6b85d3",
   "metadata": {},
   "outputs": [],
   "source": []
  },
  {
   "cell_type": "markdown",
   "id": "89d6f867-ac46-498e-89c2-20d5cd04c202",
   "metadata": {},
   "source": [
    "Q5. What are Custom Exceptions in python? Why do we need Custom Exceptions? Explain with an example"
   ]
  },
  {
   "cell_type": "code",
   "execution_count": null,
   "id": "7fd9ed52-4033-493d-94cf-f2e635c416c3",
   "metadata": {},
   "outputs": [],
   "source": []
  },
  {
   "cell_type": "markdown",
   "id": "5c2f7743-014e-454f-a8e0-d5522550421a",
   "metadata": {},
   "source": [
    "Custom Exception is user defined which is  created to handle exceptions as set by user of their choice.\n",
    "\n",
    "Using custom exceptions it can help us improve the program, especially when we are designing our package.\n",
    "\n",
    "\n",
    "Custom exceptions are user-defined exceptions in Python. They allow you to define your own exception classes and raise exceptions specific to your application's requirements. The built-in exceptions in Python are suitable for many common error conditions, but sometimes you may need to raise exceptions that are specific to your application. For example, you may have an application that deals with books and you want to raise an exception when the user tries to add a book that already exists in the library. In such a case, you could define a custom exception called BookAlreadyExists to handle this specific error condition.\n",
    "\n",
    "By using custom exceptions, you can make your error handling code more descriptive and specific to your application. This can make it easier to understand what went wrong and how to fix it, as well as improve the overall quality of your code. Custom exceptions also help to separate error handling logic from the main flow of the code, making it easier to maintain and update.\n",
    "\n",
    "In summary, custom exceptions provide a way to handle specific error conditions in your application in a more organized and descriptive manner, and can make your code more readable, maintainable, and robust."
   ]
  },
  {
   "cell_type": "code",
   "execution_count": 34,
   "id": "fb8e2266-3881-4864-89a0-329101aca4db",
   "metadata": {},
   "outputs": [],
   "source": [
    "class validateage(Exception):\n",
    "    \n",
    "    def __init__(self , msg) : \n",
    "        self.msg = msg"
   ]
  },
  {
   "cell_type": "code",
   "execution_count": 35,
   "id": "56726edc-1038-43f7-b354-70cf8467fb20",
   "metadata": {},
   "outputs": [],
   "source": [
    "def validaetage(age) : \n",
    "    if age < 0 :\n",
    "        raise validateage(\"entered age is negative \" )\n",
    "    elif age > 200 : \n",
    "        raise validateage(\"enterd age is very very high \" )\n",
    "    else :\n",
    "        logging.info(\"age is valid\" )"
   ]
  },
  {
   "cell_type": "code",
   "execution_count": 36,
   "id": "729dbd46-ad81-485f-aa4a-928a0a6c9c2c",
   "metadata": {},
   "outputs": [
    {
     "name": "stdin",
     "output_type": "stream",
     "text": [
      "enter your age -10\n"
     ]
    },
    {
     "name": "stdout",
     "output_type": "stream",
     "text": [
      "entered age is negative \n"
     ]
    }
   ],
   "source": [
    "try :\n",
    "    age = int(input(\"enter your age\" ))\n",
    "    validaetage(age)\n",
    "except validateage as e :\n",
    "    print(e)"
   ]
  },
  {
   "cell_type": "code",
   "execution_count": null,
   "id": "6cfa607a-8cb4-4bba-9591-9da77a23896a",
   "metadata": {},
   "outputs": [],
   "source": []
  },
  {
   "cell_type": "code",
   "execution_count": null,
   "id": "ba58b2f1-60a1-4ce0-a21e-b8940cd5390f",
   "metadata": {},
   "outputs": [],
   "source": []
  },
  {
   "cell_type": "markdown",
   "id": "9d1480b5-22dd-40b7-ac00-826837d7cf7a",
   "metadata": {},
   "source": [
    "Q6. Create custom exception class. Use this class to handle an exception."
   ]
  },
  {
   "cell_type": "code",
   "execution_count": 39,
   "id": "32cc5bc7-461d-4d28-8ec2-4b3178433e5f",
   "metadata": {},
   "outputs": [
    {
     "name": "stdin",
     "output_type": "stream",
     "text": [
      "Enter a number:  10\n"
     ]
    }
   ],
   "source": [
    "\n",
    "class VoteException(Exception):\n",
    "    \"Raised when the input value is less than 18\"\n",
    "    pass\n",
    "\n",
    "\n",
    "\n",
    "try:\n",
    "    num= int(input(\"Enter a number: \"))\n",
    "    if num < 18:\n",
    "        raise VoteException\n",
    "    else:\n",
    "        logging.info(\"Eligible to Vote\")\n",
    "        \n",
    "except VoteException:\n",
    "    logging.info(\"Exception occurred: Invalid Age\")"
   ]
  },
  {
   "cell_type": "code",
   "execution_count": 40,
   "id": "12f8efa0-0949-4c10-a13e-023931a3262e",
   "metadata": {},
   "outputs": [
    {
     "data": {
      "text/plain": [
       "'2023-02-13 11:11:34,894 Exception occurred: Invalid Age\\n'"
      ]
     },
     "execution_count": 40,
     "metadata": {},
     "output_type": "execute_result"
    }
   ],
   "source": [
    "f=open(\"pw.log\",\"r\")\n",
    "f.read()"
   ]
  },
  {
   "cell_type": "code",
   "execution_count": null,
   "id": "b0220634-fa5c-4674-ac02-0b27abe09cb1",
   "metadata": {},
   "outputs": [],
   "source": []
  }
 ],
 "metadata": {
  "kernelspec": {
   "display_name": "Python 3 (ipykernel)",
   "language": "python",
   "name": "python3"
  },
  "language_info": {
   "codemirror_mode": {
    "name": "ipython",
    "version": 3
   },
   "file_extension": ".py",
   "mimetype": "text/x-python",
   "name": "python",
   "nbconvert_exporter": "python",
   "pygments_lexer": "ipython3",
   "version": "3.10.8"
  }
 },
 "nbformat": 4,
 "nbformat_minor": 5
}
